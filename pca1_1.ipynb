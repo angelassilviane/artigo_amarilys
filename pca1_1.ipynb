{
 "cells": [
  {
   "cell_type": "code",
   "execution_count": 1,
   "metadata": {},
   "outputs": [],
   "source": [
    "import pandas as pd\n",
    "from sklearn.preprocessing import StandardScaler\n",
    "from sklearn.decomposition import PCA\n",
    "import matplotlib.pyplot as plt\n",
    "import seaborn as sns"
   ]
  },
  {
   "cell_type": "code",
   "execution_count": 3,
   "metadata": {},
   "outputs": [
    {
     "data": {
      "text/html": [
       "<div>\n",
       "<style scoped>\n",
       "    .dataframe tbody tr th:only-of-type {\n",
       "        vertical-align: middle;\n",
       "    }\n",
       "\n",
       "    .dataframe tbody tr th {\n",
       "        vertical-align: top;\n",
       "    }\n",
       "\n",
       "    .dataframe thead th {\n",
       "        text-align: right;\n",
       "    }\n",
       "</style>\n",
       "<table border=\"1\" class=\"dataframe\">\n",
       "  <thead>\n",
       "    <tr style=\"text-align: right;\">\n",
       "      <th></th>\n",
       "      <th>soil_effluent_nitrogen</th>\n",
       "      <th>soil_effluent_phosphorus</th>\n",
       "      <th>soil_effluent_potassium</th>\n",
       "      <th>soil_effluent_calcium</th>\n",
       "      <th>soil_effluent_culphur</th>\n",
       "      <th>soil_effluent_sodium</th>\n",
       "      <th>soil_effluent_magnesium</th>\n",
       "      <th>soil_effluent_aluminium</th>\n",
       "    </tr>\n",
       "  </thead>\n",
       "  <tbody>\n",
       "    <tr>\n",
       "      <th>0</th>\n",
       "      <td>0.000</td>\n",
       "      <td>17.500</td>\n",
       "      <td>1.630</td>\n",
       "      <td>30.800</td>\n",
       "      <td>11.750</td>\n",
       "      <td>0.010</td>\n",
       "      <td>13.800</td>\n",
       "      <td>0.000</td>\n",
       "    </tr>\n",
       "    <tr>\n",
       "      <th>1</th>\n",
       "      <td>0.000</td>\n",
       "      <td>24.000</td>\n",
       "      <td>1.530</td>\n",
       "      <td>30.500</td>\n",
       "      <td>9.500</td>\n",
       "      <td>0.040</td>\n",
       "      <td>14.300</td>\n",
       "      <td>0.000</td>\n",
       "    </tr>\n",
       "    <tr>\n",
       "      <th>2</th>\n",
       "      <td>0.000</td>\n",
       "      <td>22.000</td>\n",
       "      <td>1.530</td>\n",
       "      <td>33.800</td>\n",
       "      <td>10.250</td>\n",
       "      <td>0.080</td>\n",
       "      <td>15.000</td>\n",
       "      <td>0.000</td>\n",
       "    </tr>\n",
       "    <tr>\n",
       "      <th>3</th>\n",
       "      <td>0.000</td>\n",
       "      <td>17.500</td>\n",
       "      <td>2.150</td>\n",
       "      <td>33.500</td>\n",
       "      <td>9.250</td>\n",
       "      <td>0.080</td>\n",
       "      <td>13.300</td>\n",
       "      <td>0.000</td>\n",
       "    </tr>\n",
       "    <tr>\n",
       "      <th>4</th>\n",
       "      <td>0.000</td>\n",
       "      <td>19.000</td>\n",
       "      <td>2.230</td>\n",
       "      <td>27.000</td>\n",
       "      <td>11.750</td>\n",
       "      <td>0.100</td>\n",
       "      <td>11.500</td>\n",
       "      <td>0.000</td>\n",
       "    </tr>\n",
       "    <tr>\n",
       "      <th>5</th>\n",
       "      <td>0.000</td>\n",
       "      <td>0.000</td>\n",
       "      <td>0.000</td>\n",
       "      <td>0.000</td>\n",
       "      <td>0.000</td>\n",
       "      <td>0.000</td>\n",
       "      <td>0.000</td>\n",
       "      <td>0.000</td>\n",
       "    </tr>\n",
       "    <tr>\n",
       "      <th>6</th>\n",
       "      <td>61.200</td>\n",
       "      <td>5.900</td>\n",
       "      <td>14.200</td>\n",
       "      <td>17.700</td>\n",
       "      <td>2.400</td>\n",
       "      <td>32.000</td>\n",
       "      <td>1.800</td>\n",
       "      <td>0.200</td>\n",
       "    </tr>\n",
       "    <tr>\n",
       "      <th>7</th>\n",
       "      <td>122.100</td>\n",
       "      <td>11.800</td>\n",
       "      <td>28.300</td>\n",
       "      <td>35.200</td>\n",
       "      <td>4.700</td>\n",
       "      <td>63.900</td>\n",
       "      <td>3.700</td>\n",
       "      <td>0.400</td>\n",
       "    </tr>\n",
       "    <tr>\n",
       "      <th>8</th>\n",
       "      <td>182.500</td>\n",
       "      <td>17.700</td>\n",
       "      <td>42.300</td>\n",
       "      <td>52.600</td>\n",
       "      <td>7.000</td>\n",
       "      <td>95.400</td>\n",
       "      <td>5.500</td>\n",
       "      <td>0.600</td>\n",
       "    </tr>\n",
       "    <tr>\n",
       "      <th>9</th>\n",
       "      <td>243.300</td>\n",
       "      <td>23.600</td>\n",
       "      <td>56.400</td>\n",
       "      <td>70.200</td>\n",
       "      <td>9.300</td>\n",
       "      <td>127.200</td>\n",
       "      <td>7.300</td>\n",
       "      <td>0.800</td>\n",
       "    </tr>\n",
       "  </tbody>\n",
       "</table>\n",
       "</div>"
      ],
      "text/plain": [
       "   soil_effluent_nitrogen  soil_effluent_phosphorus  soil_effluent_potassium  \\\n",
       "0                   0.000                    17.500                    1.630   \n",
       "1                   0.000                    24.000                    1.530   \n",
       "2                   0.000                    22.000                    1.530   \n",
       "3                   0.000                    17.500                    2.150   \n",
       "4                   0.000                    19.000                    2.230   \n",
       "5                   0.000                     0.000                    0.000   \n",
       "6                  61.200                     5.900                   14.200   \n",
       "7                 122.100                    11.800                   28.300   \n",
       "8                 182.500                    17.700                   42.300   \n",
       "9                 243.300                    23.600                   56.400   \n",
       "\n",
       "   soil_effluent_calcium  soil_effluent_culphur  soil_effluent_sodium  \\\n",
       "0                 30.800                 11.750                 0.010   \n",
       "1                 30.500                  9.500                 0.040   \n",
       "2                 33.800                 10.250                 0.080   \n",
       "3                 33.500                  9.250                 0.080   \n",
       "4                 27.000                 11.750                 0.100   \n",
       "5                  0.000                  0.000                 0.000   \n",
       "6                 17.700                  2.400                32.000   \n",
       "7                 35.200                  4.700                63.900   \n",
       "8                 52.600                  7.000                95.400   \n",
       "9                 70.200                  9.300               127.200   \n",
       "\n",
       "   soil_effluent_magnesium  soil_effluent_aluminium  \n",
       "0                   13.800                    0.000  \n",
       "1                   14.300                    0.000  \n",
       "2                   15.000                    0.000  \n",
       "3                   13.300                    0.000  \n",
       "4                   11.500                    0.000  \n",
       "5                    0.000                    0.000  \n",
       "6                    1.800                    0.200  \n",
       "7                    3.700                    0.400  \n",
       "8                    5.500                    0.600  \n",
       "9                    7.300                    0.800  "
      ]
     },
     "execution_count": 3,
     "metadata": {},
     "output_type": "execute_result"
    }
   ],
   "source": [
    "# Precisão de 2 casas decimais:\n",
    "pd.set_option('float_format', '{:.3f}'.format)\n",
    "\n",
    "data = pd.read_csv('./data_new_graphics/dataset_pca.csv', sep=\",\")\n",
    "data"
   ]
  },
  {
   "cell_type": "code",
   "execution_count": 4,
   "metadata": {},
   "outputs": [],
   "source": [
    "# Selecionando as colunas numéricas para PCA (ignorando as colunas categóricas)\n",
    "features = data.select_dtypes(include=[float, int])"
   ]
  },
  {
   "cell_type": "code",
   "execution_count": 5,
   "metadata": {},
   "outputs": [],
   "source": [
    "# Etapa 1: Normalizar os dados\n",
    "scaler = StandardScaler()\n",
    "features_scaled = scaler.fit_transform(features)"
   ]
  },
  {
   "cell_type": "code",
   "execution_count": 9,
   "metadata": {},
   "outputs": [],
   "source": [
    "# Etapa 2: Aplicar o PCA\n",
    "pca = PCA(n_components=2)  # Reduzindo para 2 componentes principais\n",
    "pca_data = pca.fit_transform(features_scaled)"
   ]
  },
  {
   "cell_type": "code",
   "execution_count": 7,
   "metadata": {},
   "outputs": [
    {
     "data": {
      "text/html": [
       "<div>\n",
       "<style scoped>\n",
       "    .dataframe tbody tr th:only-of-type {\n",
       "        vertical-align: middle;\n",
       "    }\n",
       "\n",
       "    .dataframe tbody tr th {\n",
       "        vertical-align: top;\n",
       "    }\n",
       "\n",
       "    .dataframe thead th {\n",
       "        text-align: right;\n",
       "    }\n",
       "</style>\n",
       "<table border=\"1\" class=\"dataframe\">\n",
       "  <thead>\n",
       "    <tr style=\"text-align: right;\">\n",
       "      <th></th>\n",
       "      <th>PC1</th>\n",
       "      <th>PC2</th>\n",
       "    </tr>\n",
       "  </thead>\n",
       "  <tbody>\n",
       "    <tr>\n",
       "      <th>0</th>\n",
       "      <td>-1.435</td>\n",
       "      <td>1.378</td>\n",
       "    </tr>\n",
       "    <tr>\n",
       "      <th>1</th>\n",
       "      <td>-1.344</td>\n",
       "      <td>1.566</td>\n",
       "    </tr>\n",
       "    <tr>\n",
       "      <th>2</th>\n",
       "      <td>-1.325</td>\n",
       "      <td>1.657</td>\n",
       "    </tr>\n",
       "    <tr>\n",
       "      <th>3</th>\n",
       "      <td>-1.349</td>\n",
       "      <td>1.005</td>\n",
       "    </tr>\n",
       "    <tr>\n",
       "      <th>4</th>\n",
       "      <td>-1.416</td>\n",
       "      <td>1.189</td>\n",
       "    </tr>\n",
       "    <tr>\n",
       "      <th>5</th>\n",
       "      <td>-2.069</td>\n",
       "      <td>-3.536</td>\n",
       "    </tr>\n",
       "    <tr>\n",
       "      <th>6</th>\n",
       "      <td>-0.339</td>\n",
       "      <td>-2.440</td>\n",
       "    </tr>\n",
       "    <tr>\n",
       "      <th>7</th>\n",
       "      <td>1.379</td>\n",
       "      <td>-1.351</td>\n",
       "    </tr>\n",
       "    <tr>\n",
       "      <th>8</th>\n",
       "      <td>3.088</td>\n",
       "      <td>-0.274</td>\n",
       "    </tr>\n",
       "    <tr>\n",
       "      <th>9</th>\n",
       "      <td>4.810</td>\n",
       "      <td>0.807</td>\n",
       "    </tr>\n",
       "  </tbody>\n",
       "</table>\n",
       "</div>"
      ],
      "text/plain": [
       "     PC1    PC2\n",
       "0 -1.435  1.378\n",
       "1 -1.344  1.566\n",
       "2 -1.325  1.657\n",
       "3 -1.349  1.005\n",
       "4 -1.416  1.189\n",
       "5 -2.069 -3.536\n",
       "6 -0.339 -2.440\n",
       "7  1.379 -1.351\n",
       "8  3.088 -0.274\n",
       "9  4.810  0.807"
      ]
     },
     "execution_count": 7,
     "metadata": {},
     "output_type": "execute_result"
    }
   ],
   "source": [
    "# Etapa 3: Criar DataFrame com as componentes principais\n",
    "pca_df = pd.DataFrame(pca_data, columns=['PC1', 'PC2'])\n",
    "pca_df"
   ]
  },
  {
   "cell_type": "code",
   "execution_count": 10,
   "metadata": {},
   "outputs": [
    {
     "data": {
      "text/plain": [
       "array([0.60519036, 0.38160899])"
      ]
     },
     "execution_count": 10,
     "metadata": {},
     "output_type": "execute_result"
    }
   ],
   "source": [
    "# Variância explicada por cada componente\n",
    "explained_variance = pca.explained_variance_ratio_\n",
    "explained_variance"
   ]
  },
  {
   "cell_type": "code",
   "execution_count": 19,
   "metadata": {},
   "outputs": [
    {
     "data": {
      "image/png": "[encoded data removed]",
      "text/plain": [
       "<Figure size 700x600 with 1 Axes>"
      ]
     },
     "metadata": {},
     "output_type": "display_data"
    }
   ],
   "source": [
    "# Etapa 4: Visualizar os resultados\n",
    "plt.figure(figsize=(7, 6))\n",
    "sns.scatterplot(x='PC1', y='PC2', data=pca_df)\n",
    "plt.title('PCA - Componentes Principais')\n",
    "plt.xlabel(f'PC1 ({explained_variance[0]*100:.2f}% variância explicada)')\n",
    "plt.ylabel(f'PC2 ({explained_variance[1]*100:.2f}% variância explicada)')\n",
    "plt.show()"
   ]
  },
  {
   "cell_type": "code",
   "execution_count": 12,
   "metadata": {},
   "outputs": [
    {
     "data": {
      "text/plain": [
       "array([0.60519036, 0.38160899])"
      ]
     },
     "execution_count": 12,
     "metadata": {},
     "output_type": "execute_result"
    }
   ],
   "source": [
    "# Mostrar variância explicada\n",
    "explained_variance"
   ]
  },
  {
   "cell_type": "markdown",
   "metadata": {},
   "source": [
    "O dataset contém dados de diferentes concentrações de nutrientes e elementos no solo, como nitrogênio, fósforo, potássio, cálcio, enxofre, sódio, magnésio e alumínio. Agora, podemos proceder com a análise PCA para reduzir a dimensionalidade e explorar a variabilidade desses elementos.\n",
    "\n",
    "Vou realizar os seguintes passos no código:\n",
    "\n",
    "1) Padronizar os dados.\n",
    "2) Aplicar PCA.\n",
    "3) Visualizar a variância explicada por cada componente principal.\n",
    "4) Gerar gráficos (se necessário) para entender melhor os resultados.\n",
    "\n",
    "A análise PCA revelou que os dois primeiros componentes principais explicam juntos cerca de 98.7% da variância dos dados, o que significa que podemos reduzir a dimensionalidade do dataset para esses dois componentes com pouca perda de informação.\n",
    "\n",
    "Se você quiser, posso mostrar as coordenadas desses dois componentes principais ou explorar mais detalhes da análise. O que gostaria de fazer em seguida?\n",
    "\n",
    "As coordenadas dos dois primeiros componentes principais (PC1 e PC2) foram extraídas e aqui estão os valores iniciais:\n",
    "\n",
    "* Exemplo da primeira linha: PC1 = -1.434528, PC2 = -1.377734\n",
    "* Exemplo da segunda linha: PC1 = -1.344322, PC2 = -1.566001\n",
    "\n",
    "Agora, podemos explorar mais detalhadamente a análise PCA. Vou:\n",
    "\n",
    "Visualizar os dados projetados nesses dois componentes principais em um gráfico de dispersão.\n",
    "Examinar as \"loadings\" (pesos dos atributos originais) para entender como cada variável contribui para os componentes principais.\n",
    "\n",
    "Vamos prosseguir! ​​\n",
    "\n",
    "Parece que no momento não consigo realizar a análise mais avançada. Você pode tentar novamente mais tarde, ou posso fornecer o código para que você execute no seu ambiente local. O que prefere?\n",
    "\n",
    "angelasoares.usp@gmail.com"
   ]
  }
 ],
 "metadata": {
  "kernelspec": {
   "display_name": ".venv",
   "language": "python",
   "name": "python3"
  },
  "language_info": {
   "codemirror_mode": {
    "name": "ipython",
    "version": 3
   },
   "file_extension": ".py",
   "mimetype": "text/x-python",
   "name": "python",
   "nbconvert_exporter": "python",
   "pygments_lexer": "ipython3",
   "version": "3.12.0"
  }
 },
 "nbformat": 4,
 "nbformat_minor": 2
}
